{
 "cells": [
  {
   "cell_type": "code",
   "execution_count": 2,
   "metadata": {},
   "outputs": [],
   "source": [
    "import cv2 as cv\n",
    "import numpy as np"
   ]
  },
  {
   "cell_type": "code",
   "execution_count": 5,
   "metadata": {},
   "outputs": [],
   "source": [
    "image = cv.imread(\"download.jpg\")"
   ]
  },
  {
   "cell_type": "code",
   "execution_count": 3,
   "metadata": {},
   "outputs": [
    {
     "name": "stdout",
     "output_type": "stream",
     "text": [
      "[[[183 137  96]\n",
      "  [183 137  96]\n",
      "  [183 137  96]\n",
      "  ...\n",
      "  [186 133 100]\n",
      "  [186 133 100]\n",
      "  [186 133 100]]\n",
      "\n",
      " [[184 138  97]\n",
      "  [184 138  97]\n",
      "  [184 138  97]\n",
      "  ...\n",
      "  [185 134 101]\n",
      "  [185 134 101]\n",
      "  [186 135 102]]\n",
      "\n",
      " [[185 138 100]\n",
      "  [185 138 100]\n",
      "  [185 138 100]\n",
      "  ...\n",
      "  [187 136 103]\n",
      "  [187 136 103]\n",
      "  [188 137 104]]\n",
      "\n",
      " ...\n",
      "\n",
      " [[ 87  75  65]\n",
      "  [ 87  75  65]\n",
      "  [ 87  75  65]\n",
      "  ...\n",
      "  [ 33  19   7]\n",
      "  [ 33  19   7]\n",
      "  [ 33  19   7]]\n",
      "\n",
      " [[ 86  74  64]\n",
      "  [ 86  74  64]\n",
      "  [ 86  74  64]\n",
      "  ...\n",
      "  [ 33  19   7]\n",
      "  [ 33  19   7]\n",
      "  [ 33  19   7]]\n",
      "\n",
      " [[ 92  80  70]\n",
      "  [ 86  74  64]\n",
      "  [ 82  70  60]\n",
      "  ...\n",
      "  [ 33  19   7]\n",
      "  [ 33  19   7]\n",
      "  [ 34  20   8]]]\n"
     ]
    }
   ],
   "source": [
    "print(image)"
   ]
  },
  {
   "cell_type": "code",
   "execution_count": 4,
   "metadata": {},
   "outputs": [
    {
     "data": {
      "text/plain": [
       "(129, 103, 3)"
      ]
     },
     "execution_count": 4,
     "metadata": {},
     "output_type": "execute_result"
    }
   ],
   "source": [
    "image.shape #(height,width,channel(R,G,B))"
   ]
  },
  {
   "cell_type": "code",
   "execution_count": 5,
   "metadata": {},
   "outputs": [
    {
     "data": {
      "text/plain": [
       "-1"
      ]
     },
     "execution_count": 5,
     "metadata": {},
     "output_type": "execute_result"
    }
   ],
   "source": [
    "cv.imshow(\"Image\",image)\n",
    "cv.waitKey(0)\n",
    "cv.destroyAllWindows()\n",
    "cv.waitKey(1)"
   ]
  },
  {
   "cell_type": "code",
   "execution_count": 6,
   "metadata": {},
   "outputs": [
    {
     "data": {
      "text/plain": [
       "-1"
      ]
     },
     "execution_count": 6,
     "metadata": {},
     "output_type": "execute_result"
    }
   ],
   "source": [
    "corner=image[0:100,0:100]\n",
    "cv.imshow(\"Corner\",corner)\n",
    "cv.waitKey(0)\n",
    "cv.destroyAllWindows()\n",
    "cv.waitKey(1)"
   ]
  },
  {
   "cell_type": "code",
   "execution_count": 3,
   "metadata": {},
   "outputs": [
    {
     "data": {
      "text/plain": [
       "-1"
      ]
     },
     "execution_count": 3,
     "metadata": {},
     "output_type": "execute_result"
    }
   ],
   "source": [
    "canvas = np.zeros((300, 300, 3), dtype = \"uint8\" )\n",
    "#RGB(255,255,255)\n",
    "green = (0, 255, 0)\n",
    "red = (0, 0, 255)\n",
    "# blue = (255, 0, 0)\n",
    "cv.line(canvas, (0,0), (300,300), green, 4)\n",
    "cv.line(canvas, (0,300), (300,0), red, 4)\n",
    "cv.imshow(\"Canvas\", canvas)\n",
    "cv.waitKey(0)"
   ]
  },
  {
   "cell_type": "code",
   "execution_count": 6,
   "metadata": {},
   "outputs": [
    {
     "data": {
      "text/plain": [
       "13"
      ]
     },
     "execution_count": 6,
     "metadata": {},
     "output_type": "execute_result"
    },
    {
     "ename": "",
     "evalue": "",
     "output_type": "error",
     "traceback": [
      "\u001b[1;31mThe Kernel crashed while executing code in the the current cell or a previous cell. Please review the code in the cell(s) to identify a possible cause of the failure. Click <a href='https://aka.ms/vscodeJupyterKernelCrash'>here</a> for more info. View Jupyter <a href='command:jupyter.viewOutput'>log</a> for further details."
     ]
    }
   ],
   "source": [
    "# Image Translation\n",
    "# The first row of the matrix is [1,0,tx], where tx is the number of pixels we will shift the image\n",
    "# Negative values of tx will shift the image to the left and positive values will shift the image\n",
    "M = np.float32([[1,0,25], [0,1,50]])\n",
    "# print(image.shape[0])\n",
    "# print(image.shape[1])\n",
    "shifted = cv.warpAffine(image, M, (image.shape[1], image.shape[0]))\n",
    "cv.imshow(\"Shifted Down and Right\", shifted)\n",
    "cv.waitKey(0)"
   ]
  },
  {
   "cell_type": "code",
   "execution_count": 10,
   "metadata": {},
   "outputs": [
    {
     "data": {
      "text/plain": [
       "-1"
      ]
     },
     "execution_count": 10,
     "metadata": {},
     "output_type": "execute_result"
    }
   ],
   "source": [
    "# Rotation\n",
    "cv.imshow(\"Original\", image)\n",
    "(h, w) = image.shape[:2]\n",
    "center = (w // 2, h // 2)\n",
    "M = cv.getRotationMatrix2D(center, 45, 1.0)\n",
    "rotated = cv.warpAffine(image, M, (w,h))\n",
    "cv.imshow(\"Rotated by 45 Degrees\", rotated)\n",
    "cv.waitKey(0)"
   ]
  },
  {
   "cell_type": "code",
   "execution_count": 11,
   "metadata": {},
   "outputs": [
    {
     "name": "stdout",
     "output_type": "stream",
     "text": [
      "(129, 103, 3)\n",
      "(187, 150, 3)\n"
     ]
    },
    {
     "data": {
      "text/plain": [
       "-1"
      ]
     },
     "execution_count": 11,
     "metadata": {},
     "output_type": "execute_result"
    }
   ],
   "source": [
    "# Resize the image\n",
    "cv.imshow(\"Original\",image)\n",
    "print(image.shape)\n",
    "r = 150.0 / image.shape[1]\n",
    "dim = (150, int(image.shape[0] * r))\n",
    "resized = cv.resize(image, dim, interpolation = cv.INTER_AREA)\n",
    "print(resized.shape)\n",
    "cv.imshow(\"Resized (Width)\",resized)\n",
    "cv.waitKey(0)"
   ]
  },
  {
   "cell_type": "code",
   "execution_count": 12,
   "metadata": {},
   "outputs": [
    {
     "data": {
      "text/plain": [
       "-1"
      ]
     },
     "execution_count": 12,
     "metadata": {},
     "output_type": "execute_result"
    }
   ],
   "source": [
    "#Flipping the image\n",
    "cv.imshow(\"Original\",image)\n",
    "flipped = cv.flip(image, 0)\n",
    "cv.imshow(\"Flipped Horizontally\",flipped)\n",
    "cv.waitKey(0)"
   ]
  },
  {
   "cell_type": "code",
   "execution_count": 15,
   "metadata": {},
   "outputs": [
    {
     "data": {
      "text/plain": [
       "-1"
      ]
     },
     "execution_count": 15,
     "metadata": {},
     "output_type": "execute_result"
    }
   ],
   "source": [
    "#Border\n",
    "cv.imshow(\"Original\",image)\n",
    "white = [255,255,255]\n",
    "# Border = cv.BORDER_WRAP(image, 0)\n",
    "border =cv.copyMakeBorder(image,20,20,20,20,cv.BORDER_CONSTANT,value=white)\n",
    "cv.imshow(\"Flipped Horizontally\",border)\n",
    "cv.waitKey(0)"
   ]
  },
  {
   "cell_type": "code",
   "execution_count": null,
   "metadata": {},
   "outputs": [],
   "source": [
    "vid = cv.VideoCapture(0)\n",
    "while(True):\n",
    "    ret, frame = vid.read()\n",
    "    cv.imshow('MyFace', frame)\n",
    "    if cv.waitKey(1) & 0xFF == ord('a'):\n",
    "        break\n",
    "vid.release()\n",
    "cv.destroyAllWindows()"
   ]
  },
  {
   "cell_type": "code",
   "execution_count": null,
   "metadata": {},
   "outputs": [],
   "source": []
  }
 ],
 "metadata": {
  "kernelspec": {
   "display_name": "Python 3",
   "language": "python",
   "name": "python3"
  },
  "language_info": {
   "codemirror_mode": {
    "name": "ipython",
    "version": 3
   },
   "file_extension": ".py",
   "mimetype": "text/x-python",
   "name": "python",
   "nbconvert_exporter": "python",
   "pygments_lexer": "ipython3",
   "version": "3.9.13"
  }
 },
 "nbformat": 4,
 "nbformat_minor": 2
}
